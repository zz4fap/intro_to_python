{
 "cells": [
  {
   "cell_type": "markdown",
   "metadata": {},
   "source": [
    "# Conteúdo programático da disciplina\n",
    "\n",
    "### 1. Introdução ao Python \n",
    "\n",
    "[![Binder](https://mybinder.org/badge_logo.svg)](https://mybinder.org/v2/gh/zz4fap/intro_to_python/master?filepath=notebooks%2FTema01_Introducao_ao_Python.ipynb)\n",
    "\n",
    "[![Google Colab](https://badgen.net/badge/Launch/on%20Google%20Colab/blue?icon=terminal)](https://colab.research.google.com/github/zz4fap/intro_to_python/blob/master/notebooks/Tema01_Introducao_ao_Python.ipynb)\n",
    "\n",
    "### 2. Controle de fluxo, laços de repetição e operadores lógicos e de comparação \n",
    "\n",
    "[![Binder](https://mybinder.org/badge_logo.svg)](https://mybinder.org/v2/gh/zz4fap/intro_to_python/master?filepath=notebooks%2FTema02_Controle_de_fluxo_lacos_de_repeticao_operadores_logicos_e_de_comparacao.ipynb)\n",
    "\n",
    "[![Google Colab](https://badgen.net/badge/Launch/on%20Google%20Colab/blue?icon=terminal)](https://colab.research.google.com/github/zz4fap/intro_to_python/blob/master/notebooks/Tema02_Controle_de_fluxo_lacos_de_repeticao_operadores_logicos_e_de_comparacao.ipynb)\n",
    "\n",
    "### 3. Módulos e pacotes \n",
    "\n",
    "[![Binder](https://mybinder.org/badge_logo.svg)](https://mybinder.org/v2/gh/zz4fap/intro_to_python/master?filepath=notebooks%2FTema03_Modulos_e_Pacotes.ipynb)\n",
    "\n",
    "[![Google Colab](https://badgen.net/badge/Launch/on%20Google%20Colab/blue?icon=terminal)](https://colab.research.google.com/github/zz4fap/intro_to_python/blob/master/notebooks/Tema03_Modulos_e_Pacotes.ipynb)\n",
    "\n",
    "### 4. Tipos de dados nativos \n",
    "\n",
    "[![Binder](https://mybinder.org/badge_logo.svg)](https://mybinder.org/v2/gh/zz4fap/intro_to_python/master?filepath=notebooks%2FTema04_Tipos_de_dados_nativos.ipynb)\n",
    "\n",
    "[![Google Colab](https://badgen.net/badge/Launch/on%20Google%20Colab/blue?icon=terminal)](https://colab.research.google.com/github/zz4fap/intro_to_python/blob/master/notebooks/Tema04_Tipos_de_dados_nativos.ipynb)\n",
    "\n",
    "### 5. Funções \n",
    "\n",
    "[![Binder](https://mybinder.org/badge_logo.svg)](https://mybinder.org/v2/gh/zz4fap/intro_to_python/master?filepath=notebooks%2FTema05_Funcoes.ipynb)\n",
    "\n",
    "[![Google Colab](https://badgen.net/badge/Launch/on%20Google%20Colab/blue?icon=terminal)](https://colab.research.google.com/github/zz4fap/intro_to_python/blob/master/notebooks/Tema05_Funcoes.ipynb)\n",
    "\n",
    "### 6. Fundamentos de Orientação a Objetos \n",
    "\n",
    "[![Binder](https://mybinder.org/badge_logo.svg)](https://mybinder.org/v2/gh/zz4fap/intro_to_python/master?filepath=notebooks%2FTema06_Fundamentos_de_Orientacao_a_Objetos.ipynb)\n",
    "\n",
    "[![Google Colab](https://badgen.net/badge/Launch/on%20Google%20Colab/blue?icon=terminal)](https://colab.research.google.com/github/zz4fap/intro_to_python/blob/master/notebooks/Tema06_Fundamentos_de_Orientacao_a_Objetos.ipynb)"
   ]
  }
 ],
 "metadata": {
  "kernelspec": {
   "display_name": "Python 3",
   "language": "python",
   "name": "python3"
  },
  "language_info": {
   "codemirror_mode": {
    "name": "ipython",
    "version": 3
   },
   "file_extension": ".py",
   "mimetype": "text/x-python",
   "name": "python",
   "nbconvert_exporter": "python",
   "pygments_lexer": "ipython3",
   "version": "3.7.7"
  }
 },
 "nbformat": 4,
 "nbformat_minor": 4
}
